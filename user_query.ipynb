{
 "cells": [
  {
   "cell_type": "code",
   "execution_count": 2,
   "metadata": {},
   "outputs": [
    {
     "name": "stderr",
     "output_type": "stream",
     "text": [
      "c:\\Users\\s1296718\\AppData\\Local\\anaconda3\\envs\\feastore\\lib\\site-packages\\snowflake\\connector\\config_manager.py:351: UserWarning: Bad owner or permissions on C:\\Users\\s1296718\\.snowflake\\connections.toml\n",
      "  warn(f\"Bad owner or permissions on {str(filep)}{chmod_message}\")\n"
     ]
    },
    {
     "name": "stdout",
     "output_type": "stream",
     "text": [
      "Initiating login request with your identity provider. A browser window should have opened for you to complete the login. If you can't see it, check existing browser windows, or your OS settings. Press CTRL+C to abort and try again...\n",
      "Going to open: https://login.microsoftonline.com/06219a4a-a835-44d5-afaf-3926343bfb89/saml2?SAMLRequest=lZJRb5swFIX%2FCvKeAZtAGqwkFWnULVq3Zg2p1L05YFIrxma%2BJjT%2FfoYkUvfQSntD5hx%2Fx%2Ffc6e1bLb0jNyC0miESYORxVehSqP0MbfN7f4I8sEyVTGrFZ%2BjEAd3Op8Bq2dCsta%2Fqif9pOVjPXaSA9j9mqDWKagYCqGI1B2oLusl%2BPNAowJQBcGMdDl0sJQjHerW2oWHYdV3QjQJt9mGEMQ5xGjpVL%2FmC3iGazxmN0VYXWl4tb%2B5NHyBIiOMe4RSOsL4YF0KdR%2FAZZXcWAf2W52t%2F%2FbjJkZddX3enFbQ1NxtujqLg26eHcwBwCeDAkglJSNCCzxlYnwSgdFdJduCFrpvWumsD9xVWvAyl3gs3rNVyhpqDKPnjJrs%2FkV%2FL74c2LWDyvI7z41fNNi%2FjRbbclhDL5uVmkST4UCDv%2BVpt1Fe7Amj5SvWFWneEo9jHqU%2BinIwpxpTgIL3Bv5G3dIUKxezgvKYecgS1KIwGXVmtpFB8SInHEUlZzHw2GSV%2BHJeJzypW%2BaM0Go%2Fi0a7aTdKwry1C59WhQxAz%2F%2B%2BBTMP39ssa%2FnTNrJZrLUVx8u61qZn9uDgSkOFElH41SCmvmZBZWRoO4AqUUnd3hjPrtt2alqNwfqb%2Bu%2B%2Fzvw%3D%3D&RelayState=58573 to authenticate...\n"
     ]
    }
   ],
   "source": [
    "# If you have configured Snowflake to use single sign-on (SSO), you can configure your client application to use browser-based SSO for authentication.\n",
    "from snowflake.snowpark import Session\n",
    "connection_parameters = {\n",
    "   \"account\":\"ska58151.us-east-1\",\n",
    "   \"user\":\"MALLESWARI.GELLI@SYNGENTA.COM\",\n",
    "   \"role\":\"FEATLK_NONPROD_USER_ROLE\",\n",
    "   \"database\":\"FEATLK_DEV\",\n",
    "   \"schema\":\"FEATLK_DATA\",\n",
    "   \"warehouse\":\"FEATLK_INGEST_DEV\",\n",
    "   \"authenticator\":\"externalbrowser\"\n",
    "}\n",
    "session = Session.builder.configs(connection_parameters).create()"
   ]
  },
  {
   "cell_type": "code",
   "execution_count": 3,
   "metadata": {},
   "outputs": [
    {
     "name": "stderr",
     "output_type": "stream",
     "text": [
      "c:\\Users\\s1296718\\AppData\\Local\\anaconda3\\envs\\feastore\\lib\\site-packages\\snowflake\\ml\\feature_store\\feature_store.py:274: UserWarning: The current snowflake-ml-python version out of date, package upgrade recommended (current=1.5.1, recommended>=1.6.1)\n",
      "  self._check_feature_store_object_versions()\n"
     ]
    }
   ],
   "source": [
    "from snowflake.ml.feature_store import (\n",
    "    FeatureStore,\n",
    "    FeatureView,\n",
    "    Entity,\n",
    "    CreationMode\n",
    ")\n",
    "\n",
    "fs = FeatureStore(\n",
    "    session=session, \n",
    "    database=session.get_current_database(), \n",
    "    name=session.get_current_schema(), \n",
    "    default_warehouse=session.get_current_warehouse(),\n",
    "    creation_mode=CreationMode.FAIL_IF_NOT_EXIST,\n",
    ")"
   ]
  },
  {
   "cell_type": "code",
   "execution_count": 6,
   "metadata": {},
   "outputs": [
    {
     "name": "stdout",
     "output_type": "stream",
     "text": [
      "-------------------------------------------------------------------------------------------\n",
      "|\"NAME\"        |\"JOIN_KEYS\"       |\"DESC\"                 |\"OWNER\"                        |\n",
      "-------------------------------------------------------------------------------------------\n",
      "|DOLOCATIONID  |[\"DOLOCATIONID\"]  |Drop off location id.  |FEATLK_NONPROD_DEVELOPER_ROLE  |\n",
      "|DROP_LOC_ID   |[\"DOLOCATIONID\"]  |Drop off location id.  |FEATLK_NONPROD_DEVELOPER_ROLE  |\n",
      "|DROP_OFF_LOC  |[\"DOLOCATIONID\"]  |Drop off loc id.       |FEATLK_NONPROD_DEVELOPER_ROLE  |\n",
      "|TRIP_ID       |[\"TRIP_ID\"]       |Trip id.               |FEATLK_NONPROD_DEVELOPER_ROLE  |\n",
      "|TRIP_NUM      |[\"TRIP_ID\"]       |Trip id.               |FEATLK_NONPROD_DEVELOPER_ROLE  |\n",
      "|TRIP_NUMBER   |[\"TRIP_ID\"]       |Trip Unique Number     |FEATLK_NONPROD_DEVELOPER_ROLE  |\n",
      "-------------------------------------------------------------------------------------------\n",
      "\n"
     ]
    }
   ],
   "source": [
    "fs.list_entities().show()"
   ]
  },
  {
   "cell_type": "code",
   "execution_count": 5,
   "metadata": {},
   "outputs": [
    {
     "name": "stdout",
     "output_type": "stream",
     "text": [
      "-------------------------------------------------------------------------------------------------------------------------------------------------------------------------------------------------\n",
      "|\"NAME\"      |\"VERSION\"  |\"DATABASE_NAME\"  |\"SCHEMA_NAME\"  |\"CREATED_ON\"                |\"OWNER\"                        |\"DESC\"                                              |\"ENTITIES\"        |\n",
      "-------------------------------------------------------------------------------------------------------------------------------------------------------------------------------------------------\n",
      "|F_LOCATION  |1.0        |FEATLK_DEV       |FEATLK_DATA    |2024-09-06 10:04:54.820000  |FEATLK_NONPROD_DEVELOPER_ROLE  |Features aggregated by location id and refreshe...  |[                 |\n",
      "|            |           |                 |               |                            |                               |                                                    |  \"DOLOCATIONID\"  |\n",
      "|            |           |                 |               |                            |                               |                                                    |]                 |\n",
      "|F_TRIP      |1.0        |FEATLK_DEV       |FEATLK_DATA    |2024-09-06 10:05:07.273000  |FEATLK_NONPROD_DEVELOPER_ROLE  |Features per trip refreshed every day.              |[                 |\n",
      "|            |           |                 |               |                            |                               |                                                    |  \"TRIP_ID\"       |\n",
      "|            |           |                 |               |                            |                               |                                                    |]                 |\n",
      "-------------------------------------------------------------------------------------------------------------------------------------------------------------------------------------------------\n",
      "\n"
     ]
    }
   ],
   "source": [
    "fs.list_feature_views().show()"
   ]
  },
  {
   "cell_type": "code",
   "execution_count": null,
   "metadata": {},
   "outputs": [],
   "source": []
  }
 ],
 "metadata": {
  "kernelspec": {
   "display_name": "feastore",
   "language": "python",
   "name": "python3"
  },
  "language_info": {
   "codemirror_mode": {
    "name": "ipython",
    "version": 3
   },
   "file_extension": ".py",
   "mimetype": "text/x-python",
   "name": "python",
   "nbconvert_exporter": "python",
   "pygments_lexer": "ipython3",
   "version": "3.10.14"
  }
 },
 "nbformat": 4,
 "nbformat_minor": 2
}
