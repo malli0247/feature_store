{
 "metadata": {
  "kernelspec": {
   "display_name": "Streamlit Notebook",
   "name": "streamlit"
  }
 },
 "nbformat_minor": 5,
 "nbformat": 4,
 "cells": [
  {
   "cell_type": "markdown",
   "id": "deb82c50-e19a-4f54-b3d8-4444a8db527b",
   "metadata": {
    "name": "cell21",
    "collapsed": false
   },
   "source": "# **Scenario 1**: \n- session.table -> snowpark dataframe; applied feature engg (snowflake.ml OneHotEncoding)\n- Create Feature_view (feature_df = snowpark_df; refresh_freq = None)\n- Feature View : Trp_snowpark_df_1 created; BUT DATA IS NOT CAPTURED (Message: Failure during expansion of view 'TRP_SNOWPARK_DF$1': SQL compilation error: Object) "
  },
  {
   "cell_type": "markdown",
   "id": "5fe5fd3b-3a3d-4670-b8a0-472e3022f601",
   "metadata": {
    "name": "cell7",
    "collapsed": false
   },
   "source": "## setup snowpark session, install dependencies"
  },
  {
   "cell_type": "code",
   "id": "3775908f-ca36-4846-8f38-5adca39217f2",
   "metadata": {
    "language": "python",
    "name": "cell1",
    "collapsed": false,
    "codeCollapsed": false
   },
   "source": "# Import python packages\nimport streamlit as st\nimport pandas as pd\n\n# We can also use Snowpark for our analyses!\nfrom snowflake.snowpark.context import get_active_session\nsession = get_active_session()\n\ndatabase = session.get_current_database()\nschema = session.get_current_schema()\nwarehouse = session.get_current_warehouse()\nsource_table = \"NYC_YELLOW_TRIPS\"\n\nprint(f\"active session: {session}\")",
   "execution_count": null,
   "outputs": []
  },
  {
   "cell_type": "code",
   "id": "408966ae-c255-49de-9acd-acb87dd31476",
   "metadata": {
    "language": "python",
    "name": "cell4",
    "collapsed": false,
    "codeCollapsed": false
   },
   "outputs": [],
   "source": "import warnings\nimport yaml\nimport json\nimport pandas as pd\nfrom typing import List, Dict, Any\nimport snowflake.snowpark as snowpark\nfrom snowflake.snowpark import Session, DataFrame\nfrom snowflake.snowpark.functions import col\nfrom snowflake.ml.modeling.preprocessing import OneHotEncoder\nfrom snowflake.ml.modeling.impute import SimpleImputer\n\nfrom snowflake.ml.feature_store import FeatureStore, FeatureView, Entity, CreationMode\n\nwarnings.simplefilter(action=\"ignore\", category=UserWarning)",
   "execution_count": null
  },
  {
   "cell_type": "markdown",
   "id": "f03d8b1d-abb5-4090-9851-7fdcad8275e5",
   "metadata": {
    "name": "cell14",
    "collapsed": false
   },
   "source": "## Load data, feature engineering"
  },
  {
   "cell_type": "code",
   "id": "c695373e-ac74-4b62-a1f1-08206cbd5c81",
   "metadata": {
    "language": "python",
    "name": "cell3",
    "collapsed": false,
    "codeCollapsed": false
   },
   "source": "def load_data(session: snowpark.Session, database: str, schema: str, source_table: str) -> DataFrame: \n    '''loads data from a table exist in active session'''\n    \n    table_name = f\"{database}.{schema}.{source_table}\"\n    # Read table to snowpark dataframe   \n    sf_data = session.table(table_name)\n\n    # preprocessing or feature engg\n\n    # Columns with null values and their respective counts\n    null_counts = [\n        (col_name, sf_data.where(col(col_name).isNull()).count())\n        for col_name in sf_data.columns\n    ]\n    print(f\"Null values in the dataframe: {null_counts}\") # no nulls in this dataset, not applying imputer\n\n    # Slice required columns from snowpark dataframe\n    sf_data1 = sf_data.select(col(\"TPEP_DROPOFF_DATETIME\").alias(\"Time_Stamp\"), col(\"TRIP_ID\"),\n                              col(\"PASSENGER_COUNT\"), col(\"TRIP_DISTANCE\"), col(\"FARE_AMOUNT\"),\n                              col(\"STORE_AND_FWD_FLAG\")\n                              )\n\n    cat_cols = [\"STORE_AND_FWD_FLAG\"]\n    \n    OHE = OneHotEncoder(\n        input_cols=cat_cols,\n        output_cols=cat_cols,\n        drop_input_cols=True,\n        drop=\"first\",\n        handle_unknown=\"ignore\",\n    \n    )\n    sf_data2 = OHE.fit(sf_data1).transform(sf_data1)\n    # rearrage columns\n    sf_data3 = sf_data2[\n        \"TIME_STAMP\", \"TRIP_ID\", \"PASSENGER_COUNT\", \"TRIP_DISTANCE\", \"FARE_AMOUNT\", \"STORE_AND_FWD_FLAG_Y\"]\n    \n    print(\"Data type: \", type(sf_data3))\n    return sf_data3\n",
   "execution_count": null,
   "outputs": []
  },
  {
   "cell_type": "code",
   "id": "b5700b1b-9c2b-4c4e-92d8-1d1f82b93700",
   "metadata": {
    "language": "python",
    "name": "cell11",
    "collapsed": false
   },
   "outputs": [],
   "source": "sf_df = load_data(session, database, schema, source_table)\nsf_df.show()",
   "execution_count": null
  },
  {
   "cell_type": "code",
   "id": "f3a8326e-3b09-41da-a000-b240dc0e4ffa",
   "metadata": {
    "language": "python",
    "name": "cell23"
   },
   "outputs": [],
   "source": "sf_df.queries",
   "execution_count": null
  },
  {
   "cell_type": "markdown",
   "id": "fe30576e-fb50-446d-a447-cbde5588e5c5",
   "metadata": {
    "name": "cell15",
    "collapsed": false
   },
   "source": "## create or connect to feature store"
  },
  {
   "cell_type": "code",
   "id": "959e0ae6-d728-4383-8ac4-b6d1298de8ef",
   "metadata": {
    "language": "python",
    "name": "cell5",
    "collapsed": false,
    "codeCollapsed": false
   },
   "outputs": [],
   "source": "fs = FeatureStore(session= session, \n                             database= database, \n                             name = schema, \n                             default_warehouse= warehouse, \n                             creation_mode= CreationMode.CREATE_IF_NOT_EXIST)\nprint(f\"feature store: {fs} created\")\n",
   "execution_count": null
  },
  {
   "cell_type": "markdown",
   "id": "56621fe1-4ffa-4d80-92b8-03dec9cbb98c",
   "metadata": {
    "name": "cell16",
    "collapsed": false
   },
   "source": "## create entities, register entities to feature store"
  },
  {
   "cell_type": "code",
   "id": "e6186e5f-da3c-49b1-a870-715cceb089a1",
   "metadata": {
    "language": "python",
    "name": "cell2",
    "collapsed": false,
    "codeCollapsed": false
   },
   "outputs": [],
   "source": "def create_entity(feature_store: FeatureStore, name: str, join_keys: List[str], desc: str) -> Entity:\n    \"\"\"\n    Method creates single Entity instance and register it entity to feature store\n    If entity exists in feature store, script generates userwarning i.e UserWarning: Entity TRIP_NUMBER already exists. Skip registration.\n    \n    feature_store   : FeatureStore to use\n    name            : Entity name\n    join_keys       : \n    desc            :\n\n    returns         : registered_entity\n    \"\"\"\n    entity = Entity(name=name,\n                    join_keys=join_keys,\n                    desc=desc)\n    registered_entity = feature_store.register_entity(entity)\n    return registered_entity",
   "execution_count": null
  },
  {
   "cell_type": "code",
   "id": "ee50b8a8-0f66-4006-ac85-e567ee69b09e",
   "metadata": {
    "language": "python",
    "name": "cell6",
    "collapsed": false,
    "codeCollapsed": false
   },
   "outputs": [],
   "source": "entity_parameter_list= [\n    {\n        \"name\": \"TRIP_NUM\",\n        \"join_keys\": [\"TRIP_ID\"],\n        \"desc\": \"Trip Unique Number\"\n    },\n    {\n        \"name\": \"DROP_OFF_LOC\",\n        \"join_keys\": [\"DOLOCATIONID\"],\n        \"desc\": \"Drop off loc id.\"\n    }\n]\n\ndef create_entities(feature_store: FeatureStore, entity_parameter_list: List[Dict[str, Any]]) -> Dict[str, Entity]:\n    ### if multiple entities to be created, can registe\n    \"\"\" \n    Entities are the underlying objects that features and feature views are associated with. \n    They encapsulate the join keys used for feature lookups.\n        \n    \"\"\"\n    entities_mapping = {}\n    for entity_parameters in entity_parameter_list:\n        entity = create_entity(feature_store=feature_store,\n                               name=entity_parameters[\"name\"],\n                               join_keys=entity_parameters[\"join_keys\"],\n                               desc=entity_parameters[\"desc\"])\n        entities_mapping[entity_parameters[\"name\"]] = entity\n\n    return entities_mapping",
   "execution_count": null
  },
  {
   "cell_type": "code",
   "id": "67d2771b-30af-4b63-ac60-459c5b5ab984",
   "metadata": {
    "language": "python",
    "name": "cell12",
    "collapsed": false
   },
   "outputs": [],
   "source": "entities_mapping = create_entities(fs, entity_parameter_list)\nentities_mapping",
   "execution_count": null
  },
  {
   "cell_type": "markdown",
   "id": "2dce5d6e-bcd1-4cc8-a640-e13802758052",
   "metadata": {
    "name": "cell17",
    "collapsed": false
   },
   "source": "## feature view parameters"
  },
  {
   "cell_type": "code",
   "id": "016a342b-f7e3-4c2b-9def-dad395c09357",
   "metadata": {
    "language": "python",
    "name": "cell13",
    "collapsed": false,
    "codeCollapsed": false
   },
   "outputs": [],
   "source": "feature_view_parameters= [\n    {\n        \"name\": \"Trp_snowpark_df\",\n        \"entities\": [\"TRIP_NUM\"],\n        \"feature_df\": \"sf_df\",         \n        \"desc\": \"Feature view made with Pandas_df\",        \n        \"timestamp_col\" : \"TIME_STAMP\", \n        # \"refresh_freq\" : \"5 minutes\",       \n        \"feature_desc\" : {\n            \"PASSENGER_COUNT\": \"The count of passenger of a trip.\",\n            \"TRIP_DISTANCE\": \"The distance of a trip.\",\n            \"FARE_AMOUNT\": \"The fare of a trip.\",\n            \"STORE_AND_FWD_FLAG_Y\" : \"Flad id\"\n            \n        },\n        \"version\": \"1\"\n    }\n]\n",
   "execution_count": null
  },
  {
   "cell_type": "markdown",
   "id": "deeeab08-2a16-40cf-8e07-f967067a1093",
   "metadata": {
    "name": "cell9",
    "collapsed": false
   },
   "source": "## Create Feature view (feature_df = snowpark_df; refresh_freq = None)"
  },
  {
   "cell_type": "code",
   "id": "406391eb-2bfa-4984-9b44-16b9f19f7b49",
   "metadata": {
    "language": "python",
    "name": "cell8",
    "codeCollapsed": false,
    "collapsed": false
   },
   "outputs": [],
   "source": "def create_feature_views(feature_store: FeatureStore, feature_view_parameters: List[Dict[str, Any]],\n                         entity_mapping: Dict[str, Entity], feature_df: DataFrame) -> Dict[str, FeatureView]:\n    feature_view_mapping = {}\n    registered_views = feature_store.list_feature_views()\n\n    for feature_view_param in feature_view_parameters:\n        feature_view_name = feature_view_param[\"name\"]\n        feature_view_version = feature_view_param[\"version\"]\n        entities = [entity_mapping[name] for name in feature_view_param[\"entities\"]]\n        feature_df = feature_df\n        timestamp_col = feature_view_param.get(\"timestamp_col\")\n        refresh_freq = feature_view_param.get(\"refresh_freq\")\n        desc = feature_view_param.get(\"desc\")\n        feature_desc = feature_view_param.get(\"feature_desc\")\n\n        # If FeatureView already exists in fea_store just return the reference to it\n        for view in registered_views:\n            if view.name == feature_view_name and view.version == feature_view_version:\n                print(f\"Feature View : {feature_view_name}_{feature_view_version} already exists\")\n                break\n        else:\n            # Create the FeatureView instance\n            fv_instance = FeatureView(\n                name=feature_view_name,\n                entities=entities,\n                feature_df=feature_df,\n                timestamp_col=timestamp_col,\n                refresh_freq=refresh_freq,\n                desc=desc).attach_feature_desc(feature_desc)\n\n            # Register the FeatureView instance.  Creates  object in Snowflake\n            feature_view = feature_store.register_feature_view(\n                feature_view=fv_instance,\n                version=feature_view_version,\n                block=True,  # whether function call blocks until initial data is available\n                overwrite=False,  # whether to replace existing feature view with same name/version\n            )\n\n            print(f\"Feature View : {feature_view_name}_{feature_view_version} created\")\n        feature_view_mapping[feature_view_name] = feature_view\n\n    return feature_view_mapping\n",
   "execution_count": null
  },
  {
   "cell_type": "code",
   "id": "632948de-9d0b-4d92-93dd-267007443540",
   "metadata": {
    "language": "python",
    "name": "cell10",
    "collapsed": false
   },
   "outputs": [],
   "source": "feature_view_dict= create_feature_views(feature_store=fs,\n                     feature_view_parameters=feature_view_parameters,\n                     entity_mapping=entities_mapping,\n                     feature_df=sf_df)\nprint(feature_view_dict)",
   "execution_count": null
  },
  {
   "cell_type": "markdown",
   "id": "b7c261c5-edd4-4cd7-a1a6-7653493a74e6",
   "metadata": {
    "name": "cell22",
    "collapsed": false
   },
   "source": "# Scenario 2:\n- session.table -> snowpark dataframe; applied feature engg (snowflake.ml OneHotEncoding)\n- Create Feature_view (feature_df = snowpark_df; refresh_freq = \"5 minutes\")\n- **SQL compilation error: Dynamic Tables cannot depend on a temporary object 'SNOWPARK_TEMP_TABLE_IBD809K67A'**"
  },
  {
   "cell_type": "markdown",
   "id": "cf8ca856-a2ba-4e84-ab3f-55ff0a41bbfe",
   "metadata": {
    "name": "cell18",
    "collapsed": false
   },
   "source": "## create feature view with refresh_freq"
  },
  {
   "cell_type": "code",
   "id": "9a36a7bd-f719-4486-a60c-8438a06d397d",
   "metadata": {
    "language": "python",
    "name": "cell20",
    "collapsed": false,
    "codeCollapsed": false
   },
   "outputs": [],
   "source": "feature_view_parameters= [\n    {\n        \"name\": \"Trp_snowpark_df_2\",\n        \"entities\": [\"TRIP_NUM\"],\n        \"feature_df\": \"sf_df\",         \n        \"desc\": \"Feature view made with Pandas_df\",        \n        \"timestamp_col\" : \"TIME_STAMP\", \n        \"refresh_freq\" : \"5 minutes\",       \n        \"feature_desc\" : {\n            \"PASSENGER_COUNT\": \"The count of passenger of a trip.\",\n            \"TRIP_DISTANCE\": \"The distance of a trip.\",\n            \"FARE_AMOUNT\": \"The fare of a trip.\",\n            \"STORE_AND_FWD_FLAG_Y\" : \"Flad id\"\n            \n        },\n        \"version\": \"1\"\n    }\n]\n\ndef create_feature_views(feature_store: FeatureStore, feature_view_parameters: List[Dict[str, Any]],\n                         entity_mapping: Dict[str, Entity], feature_df: DataFrame) -> Dict[str, FeatureView]:\n    feature_view_mapping = {}\n    registered_views = feature_store.list_feature_views()\n\n    for feature_view_param in feature_view_parameters:\n        feature_view_name = feature_view_param[\"name\"]\n        feature_view_version = feature_view_param[\"version\"]\n        entities = [entity_mapping[name] for name in feature_view_param[\"entities\"]]\n        feature_df = feature_df\n        timestamp_col = feature_view_param.get(\"timestamp_col\")\n        refresh_freq = feature_view_param.get(\"refresh_freq\")\n        desc = feature_view_param.get(\"desc\")\n        feature_desc = feature_view_param.get(\"feature_desc\")\n\n        # If FeatureView already exists in fea_store just return the reference to it\n        for view in registered_views:\n            if view.name == feature_view_name and view.version == feature_view_version:\n                print(f\"Feature View : {feature_view_name}_{feature_view_version} already exists\")\n                break\n        else:\n            # Create the FeatureView instance\n            fv_instance = FeatureView(\n                name=feature_view_name,\n                entities=entities,\n                feature_df=feature_df,\n                timestamp_col=timestamp_col,\n                refresh_freq=refresh_freq,\n                desc=desc).attach_feature_desc(feature_desc)\n\n            # Register the FeatureView instance.  Creates  object in Snowflake\n            feature_view = feature_store.register_feature_view(\n                feature_view=fv_instance,\n                version=feature_view_version,\n                block=True,  # whether function call blocks until initial data is available\n                overwrite=False,  # whether to replace existing feature view with same name/version\n            )\n\n            print(f\"Feature View : {feature_view_name}_{feature_view_version} created\")\n        feature_view_mapping[feature_view_name] = feature_view\n\n    return feature_view_mapping\n\n\n\n",
   "execution_count": null
  },
  {
   "cell_type": "code",
   "id": "cf2d35e2-3ce1-49cc-b70c-b5c73e2899c1",
   "metadata": {
    "language": "python",
    "name": "cell19",
    "collapsed": false
   },
   "outputs": [],
   "source": "feature_view_dict= create_feature_views(feature_store=fs,\n                     feature_view_parameters=feature_view_parameters,\n                     entity_mapping=entities_mapping,\n                     feature_df=sf_df)\nprint(feature_view_dict)",
   "execution_count": null
  },
  {
   "cell_type": "markdown",
   "id": "80be86ee-3dd7-4e1d-ac34-e66066dbd006",
   "metadata": {
    "name": "cell25",
    "collapsed": false
   },
   "source": "# Scenario 3: Write fea engg'ed snowpark df to snowflake table, use it as source table to make feature store and view"
  },
  {
   "cell_type": "code",
   "id": "5ea22d62-5811-4539-a663-2f9c3bfe0aa4",
   "metadata": {
    "language": "python",
    "name": "cell24",
    "codeCollapsed": false,
    "collapsed": false
   },
   "outputs": [],
   "source": "sf_df.write.mode(\"overwrite\").save_as_table(\"NYC_Trips_FeaEngg_table\")\nfea_engg_snowpark_df= session.table(\"NYC_Trips_FeaEngg_table\")\nfea_engg_snowpark_df.show()",
   "execution_count": null
  },
  {
   "cell_type": "code",
   "id": "bd56108d-8307-49d1-a772-c3e6790ff8a5",
   "metadata": {
    "language": "python",
    "name": "cell26",
    "collapsed": false
   },
   "outputs": [],
   "source": "# create feature store\nfs = FeatureStore(session= session, \n                             database= database, \n                             name = schema, \n                             default_warehouse= warehouse, \n                             creation_mode= CreationMode.CREATE_IF_NOT_EXIST)\nprint(f\"feature store: {fs} created\")\n",
   "execution_count": null
  },
  {
   "cell_type": "code",
   "id": "14d046d6-7af4-4b25-819f-9959a0e86660",
   "metadata": {
    "language": "python",
    "name": "cell27",
    "collapsed": false
   },
   "outputs": [],
   "source": "# create and register entities\n\ndef create_entity(feature_store: FeatureStore, name: str, join_keys: List[str], desc: str) -> Entity:\n    \"\"\"\n    Method creates single Entity instance and register it entity to feature store\n    If entity exists in feature store, script generates userwarning i.e UserWarning: Entity TRIP_NUMBER already exists. Skip registration.\n    \n    feature_store   : FeatureStore to use\n    name            : Entity name\n    join_keys       : \n    desc            :\n\n    returns         : registered_entity\n    \"\"\"\n    entity = Entity(name=name,\n                    join_keys=join_keys,\n                    desc=desc)\n    registered_entity = feature_store.register_entity(entity)\n    return registered_entity\n\n\nentity_parameter_list= [\n    {\n        \"name\": \"TRIP_NUM\",\n        \"join_keys\": [\"TRIP_ID\"],\n        \"desc\": \"Trip Unique Number\"\n    },\n    {\n        \"name\": \"DROP_OFF_LOC\",\n        \"join_keys\": [\"DOLOCATIONID\"],\n        \"desc\": \"Drop off loc id.\"\n    }\n]\n\ndef create_entities(feature_store: FeatureStore, entity_parameter_list: List[Dict[str, Any]]) -> Dict[str, Entity]:\n    ### if multiple entities to be created, can registe\n    \"\"\" \n    Entities are the underlying objects that features and feature views are associated with. \n    They encapsulate the join keys used for feature lookups.\n        \n    \"\"\"\n    entities_mapping = {}\n    for entity_parameters in entity_parameter_list:\n        entity = create_entity(feature_store=feature_store,\n                               name=entity_parameters[\"name\"],\n                               join_keys=entity_parameters[\"join_keys\"],\n                               desc=entity_parameters[\"desc\"])\n        entities_mapping[entity_parameters[\"name\"]] = entity\n\n    return entities_mapping",
   "execution_count": null
  },
  {
   "cell_type": "code",
   "id": "6053750b-e55f-492c-9f4c-056519397d92",
   "metadata": {
    "language": "python",
    "name": "cell28",
    "collapsed": false
   },
   "outputs": [],
   "source": "# Create feature view using snowpark_df extracted from table (fea engg'ed df is saved as table); with refresh_freq\n\nfeature_view_parameters= [\n    {\n        \"name\": \"Trp_snow_df\",\n        \"entities\": [\"TRIP_NUM\"],\n        \"feature_df\": \"fea_engg_snowpark_df\",         \n        \"desc\": \"Feature view made with snowpark_df from fea engg'ed table\",        \n        \"timestamp_col\" : \"TIME_STAMP\", \n        #\"refresh_freq\" : \"5 minutes\",       \n        \"feature_desc\" : {\n            \"PASSENGER_COUNT\": \"The count of passenger of a trip.\",\n            \"TRIP_DISTANCE\": \"The distance of a trip.\",\n            \"FARE_AMOUNT\": \"The fare of a trip.\",\n            \"STORE_AND_FWD_FLAG_Y\" : \"Flad id\"\n            \n        },\n        \"version\": \"1\"\n    }\n]\n\ndef create_feature_views(feature_store: FeatureStore, feature_view_parameters: List[Dict[str, Any]],\n                         entity_mapping: Dict[str, Entity], feature_df: DataFrame) -> Dict[str, FeatureView]:\n    feature_view_mapping = {}\n    registered_views = feature_store.list_feature_views()\n\n    for feature_view_param in feature_view_parameters:\n        feature_view_name = feature_view_param[\"name\"]\n        feature_view_version = feature_view_param[\"version\"]\n        entities = [entity_mapping[name] for name in feature_view_param[\"entities\"]]\n        feature_df = feature_df\n        timestamp_col = feature_view_param.get(\"timestamp_col\")\n        refresh_freq = feature_view_param.get(\"refresh_freq\")\n        desc = feature_view_param.get(\"desc\")\n        feature_desc = feature_view_param.get(\"feature_desc\")\n\n        # If FeatureView already exists in fea_store just return the reference to it\n        for view in registered_views:\n            if view.name == feature_view_name and view.version == feature_view_version:\n                print(f\"Feature View : {feature_view_name}_{feature_view_version} already exists\")\n                break\n        else:\n            # Create the FeatureView instance\n            fv_instance = FeatureView(\n                name=feature_view_name,\n                entities=entities,\n                feature_df=feature_df,\n                timestamp_col=timestamp_col,\n                refresh_freq=refresh_freq,\n                desc=desc).attach_feature_desc(feature_desc)\n\n            # Register the FeatureView instance.  Creates  object in Snowflake\n            feature_view = feature_store.register_feature_view(\n                feature_view=fv_instance,\n                version=feature_view_version,\n                block=True,  # whether function call blocks until initial data is available\n                overwrite=False,  # whether to replace existing feature view with same name/version\n            )\n\n            print(f\"Feature View : {feature_view_name}_{feature_view_version} created\")\n        feature_view_mapping[feature_view_name] = feature_view\n\n    return feature_view_mapping\n",
   "execution_count": null
  },
  {
   "cell_type": "code",
   "id": "1d64d2f8-ad3a-4b0e-af91-dab507c4785f",
   "metadata": {
    "language": "python",
    "name": "cell29",
    "collapsed": false
   },
   "outputs": [],
   "source": "feature_view_dict= create_feature_views(feature_store=fs,\n                     feature_view_parameters=feature_view_parameters,\n                     entity_mapping=entities_mapping,\n                     feature_df=fea_engg_snowpark_df)\nprint(feature_view_dict)",
   "execution_count": null
  }
 ]
}