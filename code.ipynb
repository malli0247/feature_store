{
 "cells": [
  {
   "cell_type": "markdown",
   "metadata": {},
   "source": [
    "# 1. Import libraries"
   ]
  },
  {
   "cell_type": "code",
   "execution_count": 1,
   "metadata": {},
   "outputs": [],
   "source": [
    "# Install the Snowpark Python package into the Python virtual environment (automatically installs the appropriate version of PyArrow)\n",
    "# pip install snowflake-snowpark-python\n",
    "# ! pip install \"snowflake-snowpark-python[modin]\"\n",
    "# pip install modin"
   ]
  },
  {
   "cell_type": "code",
   "execution_count": 1,
   "metadata": {},
   "outputs": [
    {
     "name": "stdout",
     "output_type": "stream",
     "text": [
      "Requirement already satisfied: snowflake-snowpark-python[modin] in c:\\users\\s1296718\\appdata\\local\\anaconda3\\envs\\feastore\\lib\\site-packages (1.16.0)\n",
      "Requirement already satisfied: setuptools>=40.6.0 in c:\\users\\s1296718\\appdata\\local\\anaconda3\\envs\\feastore\\lib\\site-packages (from snowflake-snowpark-python[modin]) (72.1.0)\n",
      "Requirement already satisfied: wheel in c:\\users\\s1296718\\appdata\\local\\anaconda3\\envs\\feastore\\lib\\site-packages (from snowflake-snowpark-python[modin]) (0.43.0)\n",
      "Requirement already satisfied: snowflake-connector-python<4.0.0,>=3.10.0 in c:\\users\\s1296718\\appdata\\local\\anaconda3\\envs\\feastore\\lib\\site-packages (from snowflake-snowpark-python[modin]) (3.12.1)\n",
      "Requirement already satisfied: typing-extensions<5.0.0,>=4.1.0 in c:\\users\\s1296718\\appdata\\local\\anaconda3\\envs\\feastore\\lib\\site-packages (from snowflake-snowpark-python[modin]) (4.11.0)\n",
      "Requirement already satisfied: pyyaml in c:\\users\\s1296718\\appdata\\local\\anaconda3\\envs\\feastore\\lib\\site-packages (from snowflake-snowpark-python[modin]) (6.0.1)\n",
      "Requirement already satisfied: cloudpickle!=2.1.0,!=2.2.0,<=2.2.1,>=1.6.0 in c:\\users\\s1296718\\appdata\\local\\anaconda3\\envs\\feastore\\lib\\site-packages (from snowflake-snowpark-python[modin]) (2.2.1)\n",
      "Requirement already satisfied: asn1crypto<2.0.0,>0.24.0 in c:\\users\\s1296718\\appdata\\local\\anaconda3\\envs\\feastore\\lib\\site-packages (from snowflake-connector-python<4.0.0,>=3.10.0->snowflake-snowpark-python[modin]) (1.5.1)\n",
      "Requirement already satisfied: cffi<2.0.0,>=1.9 in c:\\users\\s1296718\\appdata\\local\\anaconda3\\envs\\feastore\\lib\\site-packages (from snowflake-connector-python<4.0.0,>=3.10.0->snowflake-snowpark-python[modin]) (1.16.0)\n",
      "Requirement already satisfied: cryptography>=3.1.0 in c:\\users\\s1296718\\appdata\\local\\anaconda3\\envs\\feastore\\lib\\site-packages (from snowflake-connector-python<4.0.0,>=3.10.0->snowflake-snowpark-python[modin]) (42.0.5)\n",
      "Requirement already satisfied: pyOpenSSL<25.0.0,>=16.2.0 in c:\\users\\s1296718\\appdata\\local\\anaconda3\\envs\\feastore\\lib\\site-packages (from snowflake-connector-python<4.0.0,>=3.10.0->snowflake-snowpark-python[modin]) (24.2.1)\n",
      "Requirement already satisfied: pyjwt<3.0.0 in c:\\users\\s1296718\\appdata\\local\\anaconda3\\envs\\feastore\\lib\\site-packages (from snowflake-connector-python<4.0.0,>=3.10.0->snowflake-snowpark-python[modin]) (2.8.0)\n",
      "Requirement already satisfied: pytz in c:\\users\\s1296718\\appdata\\local\\anaconda3\\envs\\feastore\\lib\\site-packages (from snowflake-connector-python<4.0.0,>=3.10.0->snowflake-snowpark-python[modin]) (2024.1)\n",
      "Requirement already satisfied: requests<3.0.0 in c:\\users\\s1296718\\appdata\\local\\anaconda3\\envs\\feastore\\lib\\site-packages (from snowflake-connector-python<4.0.0,>=3.10.0->snowflake-snowpark-python[modin]) (2.32.3)\n",
      "Requirement already satisfied: packaging in c:\\users\\s1296718\\appdata\\local\\anaconda3\\envs\\feastore\\lib\\site-packages (from snowflake-connector-python<4.0.0,>=3.10.0->snowflake-snowpark-python[modin]) (23.2)\n",
      "Requirement already satisfied: charset-normalizer<4,>=2 in c:\\users\\s1296718\\appdata\\local\\anaconda3\\envs\\feastore\\lib\\site-packages (from snowflake-connector-python<4.0.0,>=3.10.0->snowflake-snowpark-python[modin]) (3.3.2)\n",
      "Requirement already satisfied: idna<4,>=2.5 in c:\\users\\s1296718\\appdata\\local\\anaconda3\\envs\\feastore\\lib\\site-packages (from snowflake-connector-python<4.0.0,>=3.10.0->snowflake-snowpark-python[modin]) (3.7)\n",
      "Requirement already satisfied: certifi>=2017.4.17 in c:\\users\\s1296718\\appdata\\local\\anaconda3\\envs\\feastore\\lib\\site-packages (from snowflake-connector-python<4.0.0,>=3.10.0->snowflake-snowpark-python[modin]) (2024.7.4)\n",
      "Requirement already satisfied: filelock<4,>=3.5 in c:\\users\\s1296718\\appdata\\local\\anaconda3\\envs\\feastore\\lib\\site-packages (from snowflake-connector-python<4.0.0,>=3.10.0->snowflake-snowpark-python[modin]) (3.13.1)\n",
      "Requirement already satisfied: sortedcontainers>=2.4.0 in c:\\users\\s1296718\\appdata\\local\\anaconda3\\envs\\feastore\\lib\\site-packages (from snowflake-connector-python<4.0.0,>=3.10.0->snowflake-snowpark-python[modin]) (2.4.0)\n",
      "Requirement already satisfied: platformdirs<5.0.0,>=2.6.0 in c:\\users\\s1296718\\appdata\\local\\anaconda3\\envs\\feastore\\lib\\site-packages (from snowflake-connector-python<4.0.0,>=3.10.0->snowflake-snowpark-python[modin]) (3.10.0)\n",
      "Requirement already satisfied: tomlkit in c:\\users\\s1296718\\appdata\\local\\anaconda3\\envs\\feastore\\lib\\site-packages (from snowflake-connector-python<4.0.0,>=3.10.0->snowflake-snowpark-python[modin]) (0.11.1)\n",
      "Requirement already satisfied: pycparser in c:\\users\\s1296718\\appdata\\local\\anaconda3\\envs\\feastore\\lib\\site-packages (from cffi<2.0.0,>=1.9->snowflake-connector-python<4.0.0,>=3.10.0->snowflake-snowpark-python[modin]) (2.21)\n",
      "Requirement already satisfied: urllib3<3,>=1.21.1 in c:\\users\\s1296718\\appdata\\local\\anaconda3\\envs\\feastore\\lib\\site-packages (from requests<3.0.0->snowflake-connector-python<4.0.0,>=3.10.0->snowflake-snowpark-python[modin]) (2.0.7)\n",
      "Note: you may need to restart the kernel to use updated packages.\n"
     ]
    },
    {
     "name": "stderr",
     "output_type": "stream",
     "text": [
      "WARNING: snowflake-snowpark-python 1.16.0 does not provide the extra 'modin'\n"
     ]
    }
   ],
   "source": [
    "pip install \"snowflake-snowpark-python[modin]\""
   ]
  },
  {
   "cell_type": "markdown",
   "metadata": {},
   "source": [
    "# 2. Create Snowflake snowpark sesssion \n",
    "#### with SSO through a web browser"
   ]
  },
  {
   "cell_type": "code",
   "execution_count": 1,
   "metadata": {},
   "outputs": [
    {
     "name": "stderr",
     "output_type": "stream",
     "text": [
      "c:\\Users\\s1296718\\AppData\\Local\\anaconda3\\envs\\feastore\\lib\\site-packages\\snowflake\\connector\\config_manager.py:351: UserWarning: Bad owner or permissions on C:\\Users\\s1296718\\.snowflake\\connections.toml\n",
      "  warn(f\"Bad owner or permissions on {str(filep)}{chmod_message}\")\n"
     ]
    },
    {
     "name": "stdout",
     "output_type": "stream",
     "text": [
      "Initiating login request with your identity provider. A browser window should have opened for you to complete the login. If you can't see it, check existing browser windows, or your OS settings. Press CTRL+C to abort and try again...\n",
      "Going to open: https://login.microsoftonline.com/06219a4a-a835-44d5-afaf-3926343bfb89/saml2?SAMLRequest=lZJdb9owFIb%2FSuRdO3E%2BQIkFVFkpaya2sUKndXcmcaiLYzMfh5T9%2BpnQSN1FK%2B0ucp7Xfuz3TK6eG%2BkduQGh1RSFPkEeV6WuhNpN0f1mgVPkgWWqYlIrPkUnDuhqNgHWyAPNW%2Fuo7vjvloP13EYKaP9jilqjqGYggCrWcKC2pOv8y5JGPqEHo60utUSvIu8nGAA31hkOkQqE03u09kCDoOs6v4t9bXZBRAgJSBY46ox8GPhnd6c3%2BDAgyZl3hMNXL24fhbo8wXta2wsE9HazWeHVt%2FUGefmgeq0VtA03a26OouT3d8uLADgD2LNRGo5CvwXMGVgc%2BqB0V0u256VuDq112%2FruK6h5FUi9E%2B7mxXyKDntRLRbNMj4d6%2B6pI2v2%2BdM8H7P8ZtHA%2FudpfZv82T18Lx4K%2FlRFNyXyfgzVRudqC4CWF%2BpcqHVLJEowyXBMNmFGo5CS2E%2FS9Bfy5q5QoZjtk4N17%2BE3ojQadG21kkLx3pKMozBjCcMsjUc4SaoRZjWrcZxF4ziJt%2FU2zYJzzRG6jA7tRczsvx9kEryOv4zhV9dMMV9pKcqTt9CmYfbt4kI%2F7FdEhesepbxhQuZVZTiAK1BK3V0bzqybdmtajoLZ5dR%2F5332Fw%3D%3D&RelayState=62627 to authenticate...\n"
     ]
    }
   ],
   "source": [
    "# If you have configured Snowflake to use single sign-on (SSO), you can configure your client application to use browser-based SSO for authentication.\n",
    "from snowflake.snowpark import Session\n",
    "connection_parameters = {\n",
    "   \"account\":\"ska58151.us-east-1\",\n",
    "   \"user\":\"MALLESWARI.GELLI@SYNGENTA.COM\",\n",
    "   \"role\":\"FEATLK_NONPROD_DEVELOPER_ROLE\",\n",
    "   \"database\":\"FEATLK_DEV\",\n",
    "   \"schema\":\"FEATLK_DATA\",\n",
    "   \"warehouse\":\"FEATLK_INGEST_DEV\",\n",
    "   \"authenticator\":\"externalbrowser\"\n",
    "}\n",
    "session = Session.builder.configs(connection_parameters).create()"
   ]
  },
  {
   "cell_type": "code",
   "execution_count": 2,
   "metadata": {},
   "outputs": [
    {
     "name": "stdout",
     "output_type": "stream",
     "text": [
      "<snowflake.snowpark.session.Session: account=\"ska58151\", role=\"FEATLK_NONPROD_DEVELOPER_ROLE\", database=\"FEATLK_DEV\", schema=\"FEATLK_DATA\", warehouse=\"FEATLK_INGEST_DEV\">\n"
     ]
    }
   ],
   "source": [
    "print(session)"
   ]
  },
  {
   "cell_type": "code",
   "execution_count": null,
   "metadata": {},
   "outputs": [],
   "source": [
    "# # If you have configured Snowflake to use single sign-on (SSO), you can configure your client application to use browser-based SSO for authentication.\n",
    "import json\n",
    "from snowflake.snowpark import Session\n",
    "connection_parameters = json.load(open('connection.json'))\n",
    "print(connection_parameters)\n",
    "# connect to the database\n",
    "session = Session.builder.configs(connection_parameters).create()\n"
   ]
  },
  {
   "cell_type": "code",
   "execution_count": 1,
   "metadata": {},
   "outputs": [
    {
     "ename": "ModuleNotFoundError",
     "evalue": "No module named 'snowflake.snowpark.modin'",
     "output_type": "error",
     "traceback": [
      "\u001b[1;31m---------------------------------------------------------------------------\u001b[0m",
      "\u001b[1;31mModuleNotFoundError\u001b[0m                       Traceback (most recent call last)",
      "Cell \u001b[1;32mIn[1], line 2\u001b[0m\n\u001b[0;32m      1\u001b[0m \u001b[38;5;28;01mimport\u001b[39;00m \u001b[38;5;21;01mmodin\u001b[39;00m\u001b[38;5;21;01m.\u001b[39;00m\u001b[38;5;21;01mpandas\u001b[39;00m \u001b[38;5;28;01mas\u001b[39;00m \u001b[38;5;21;01mpd\u001b[39;00m\n\u001b[1;32m----> 2\u001b[0m \u001b[38;5;28;01mimport\u001b[39;00m \u001b[38;5;21;01msnowflake\u001b[39;00m\u001b[38;5;21;01m.\u001b[39;00m\u001b[38;5;21;01msnowpark\u001b[39;00m\u001b[38;5;21;01m.\u001b[39;00m\u001b[38;5;21;01mmodin\u001b[39;00m\u001b[38;5;21;01m.\u001b[39;00m\u001b[38;5;21;01mplugin\u001b[39;00m\n\u001b[0;32m      3\u001b[0m \u001b[38;5;28;01mfrom\u001b[39;00m \u001b[38;5;21;01msnowflake\u001b[39;00m\u001b[38;5;21;01m.\u001b[39;00m\u001b[38;5;21;01msnowpark\u001b[39;00m \u001b[38;5;28;01mimport\u001b[39;00m Session\n",
      "\u001b[1;31mModuleNotFoundError\u001b[0m: No module named 'snowflake.snowpark.modin'"
     ]
    }
   ],
   "source": [
    "import modin.pandas as pd\n",
    "import snowflake.snowpark.modin.plugin\n",
    "from snowflake.snowpark import Session"
   ]
  },
  {
   "cell_type": "markdown",
   "metadata": {},
   "source": [
    "## NOTE: Couldn't resolve\n",
    "ModuleNotFoundError: No module named 'snowflake.snowpark.modin'\n",
    "\n",
    "Can't i run `snowflake pandas` out side of snowflake notebooks? "
   ]
  },
  {
   "cell_type": "markdown",
   "metadata": {},
   "source": [
    "# 3. Load data"
   ]
  },
  {
   "cell_type": "code",
   "execution_count": null,
   "metadata": {},
   "outputs": [],
   "source": [
    "from snowflake.snowpark.functions import col\n",
    "import pandas as pd\n",
    "import snowflake.snowpark as snowpark\n",
    "\n",
    "# Create a Snowpark session with a default connection.\n",
    "from snowflake.snowpark.session import Session\n",
    "session = Session.builder.configs(connection_parameters).create()\n",
    "\n",
    "table_name = \"NYC_YELLOW_TRIPS\"\n",
    "\n",
    "def load_data(session: snowpark.Session, database:str, schema:str, table_name:str): \n",
    "    '''loads data from a table exist in active session'''  \n",
    "    \n",
    "    # Step 1 :- Getting data from tables (Snowflake table)  \n",
    "    source_table = f\"{database}.{schema}.{table_name}\" \n",
    "    \n",
    "\n",
    "    # Step2: Create a snowpark DataFrame from source table.\n",
    "    snowpark_df = session.table(source_table)\n",
    "    \n",
    "    # Step3: Create a Snowpark pandas DataFrame from existing Snowflake table\n",
    "    #snowpark_pandas_df = pd.read_snowflake(source_table)\n",
    "\n",
    "    # Step3: Convert snowpark Dataframe into your choice (pandas df, snowpark pandas, spark df)\n",
    "    # Step3a: Converting the data to pandas dataframe\n",
    "    pandas_df = snowpark_df.to_pandas()\n",
    "\n",
    "    # converting a Pandas DataFrame into a Spark DataFrame.\n",
    "    \n",
    "    # return snowpark_df\n",
    "    return pandas_df"
   ]
  },
  {
   "cell_type": "code",
   "execution_count": null,
   "metadata": {},
   "outputs": [],
   "source": [
    "# To print out the first 10 rows of snowpark df\n",
    "import time\n",
    "t0 = time.perf_counter()\n",
    "\n",
    "snowpark_df= load_data(session,database,schema,table_name)\n",
    "print(snowpark_df.show())\n",
    "\n",
    "t1 = time.perf_counter()\n",
    "print(\"snowpark_df printing 10 rows took:\", t1-t0, \"seconds\")\n"
   ]
  },
  {
   "cell_type": "code",
   "execution_count": null,
   "metadata": {},
   "outputs": [],
   "source": [
    "\n",
    "# To print out the first 10 rows of pandas df\n",
    "import time\n",
    "t0 = time.perf_counter()\n",
    "\n",
    "pandas_df= load_data(session,database,schema,table_name)\n",
    "print(\"Size of df:\", pandas_df.shape)\n",
    "print(pandas_df.head(5))\n",
    "\n",
    "t1 = time.perf_counter()\n",
    "print(\"pandas_df printing 10 rows took:\", t1-t0, \"seconds\")"
   ]
  },
  {
   "cell_type": "markdown",
   "metadata": {},
   "source": [
    "# 4. Transformations\n",
    "\n",
    "- Features aggregated by location id and refreshed every 12 hours -> AVG_FARE_1H (float), AVG_FARE_10H (float)\n",
    "- Features per trip refreshed every day - PASSENGER_COUNT, TRIP_DISTANCE, FARE_AMOUNT"
   ]
  },
  {
   "cell_type": "markdown",
   "metadata": {},
   "source": [
    "## f_trip data"
   ]
  },
  {
   "cell_type": "code",
   "execution_count": null,
   "metadata": {},
   "outputs": [],
   "source": [
    "import time\n",
    "t0 = time.perf_counter()\n",
    "\n",
    "f_trip_data = data_set[[\"TRIP_ID\",\"PASSENGER_COUNT\",\"TRIP_DISTANCE\",\"FARE_AMOUNT\"]]\n",
    "print(f_trip_data.head())\n",
    "\n",
    "t1 = time.perf_counter()\n",
    "print(\"df.head printing took:\", t1-t0, \"seconds\")\n",
    "\n",
    "# and if you really want your answer in minutes:\n",
    "#print(f\"In minutes: {(t1-t0)/60}\")\n",
    "\n"
   ]
  },
  {
   "cell_type": "markdown",
   "metadata": {},
   "source": [
    "# Convert pandas df to snowpark df"
   ]
  },
  {
   "cell_type": "code",
   "execution_count": null,
   "metadata": {},
   "outputs": [],
   "source": [
    "snowpark_df = session.create_dataframe(data=f_trip_data)\n",
    "snowpark_df.head()"
   ]
  },
  {
   "cell_type": "code",
   "execution_count": null,
   "metadata": {},
   "outputs": [],
   "source": []
  },
  {
   "cell_type": "code",
   "execution_count": null,
   "metadata": {},
   "outputs": [],
   "source": []
  },
  {
   "cell_type": "markdown",
   "metadata": {},
   "source": [
    "### f_location_data"
   ]
  },
  {
   "cell_type": "code",
   "execution_count": null,
   "metadata": {},
   "outputs": [],
   "source": [
    "data_set.dtypes[\"TPEP_DROPOFF_DATETIME\"]"
   ]
  },
  {
   "cell_type": "code",
   "execution_count": null,
   "metadata": {},
   "outputs": [],
   "source": [
    "data_set[\"TPEP_DROPOFF_DATETIME\"]"
   ]
  },
  {
   "cell_type": "code",
   "execution_count": null,
   "metadata": {},
   "outputs": [],
   "source": [
    "data_set.dtypes[\"TPEP_DROPOFF_DATETIME\"]"
   ]
  },
  {
   "cell_type": "code",
   "execution_count": null,
   "metadata": {},
   "outputs": [],
   "source": [
    "data_set[\"reach_minutes\"]= (data_set[\"TPEP_DROPOFF_DATETIME\"]).dt.total_seconds()/60\n",
    "data_set[\"reach_minutes\"]= data_set[\"reach_minutes\"].astype(int)\n",
    "data_set.head()"
   ]
  },
  {
   "cell_type": "code",
   "execution_count": null,
   "metadata": {},
   "outputs": [],
   "source": [
    "data_set.sort_values(by=[\"TPEP_DROPOFF_DATETIME\"],ascending=False)[[\"TPEP_DROPOFF_DATETIME\",\"DOLOCATIONID\",\"trip_time_minutes\",\"FARE_AMOUNT\"]]\n"
   ]
  },
  {
   "cell_type": "code",
   "execution_count": null,
   "metadata": {},
   "outputs": [],
   "source": []
  },
  {
   "cell_type": "code",
   "execution_count": null,
   "metadata": {},
   "outputs": [],
   "source": [
    "AVG_FARE_1H= data_set.groupby([\"DOLOCATIONID\"]).apply(lambda x: \"FARE_AMOUNT\"]]\n",
    "f_loc.head()"
   ]
  },
  {
   "cell_type": "markdown",
   "metadata": {},
   "source": [
    "# Create multiple entities test"
   ]
  },
  {
   "cell_type": "code",
   "execution_count": null,
   "metadata": {},
   "outputs": [],
   "source": [
    "import pandas as pd\n",
    "df = pd.read_csv(\"entities_list.csv\")\n",
    "df"
   ]
  },
  {
   "cell_type": "code",
   "execution_count": null,
   "metadata": {},
   "outputs": [],
   "source": [
    "import json\n",
    "entities = json.load(open(\"entities.json\", \"r\"))\n",
    "entities"
   ]
  },
  {
   "cell_type": "code",
   "execution_count": null,
   "metadata": {},
   "outputs": [],
   "source": [
    "for index,row in enumerate(df.values):\n",
    "    print(index, row)"
   ]
  },
  {
   "cell_type": "code",
   "execution_count": null,
   "metadata": {},
   "outputs": [],
   "source": [
    "for index,row in enumerate(df.values):\n",
    "    for i in index:\n",
    "        print(i)"
   ]
  }
 ],
 "metadata": {
  "kernelspec": {
   "display_name": "feastore",
   "language": "python",
   "name": "python3"
  },
  "language_info": {
   "codemirror_mode": {
    "name": "ipython",
    "version": 3
   },
   "file_extension": ".py",
   "mimetype": "text/x-python",
   "name": "python",
   "nbconvert_exporter": "python",
   "pygments_lexer": "ipython3",
   "version": "3.10.14"
  }
 },
 "nbformat": 4,
 "nbformat_minor": 2
}
